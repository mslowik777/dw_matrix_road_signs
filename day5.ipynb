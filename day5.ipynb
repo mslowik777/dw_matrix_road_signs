{
  "nbformat": 4,
  "nbformat_minor": 0,
  "metadata": {
    "colab": {
      "name": "day5.ipynb",
      "provenance": [],
      "mount_file_id": "1vEG1qkvivPRh71c1FC170XHJNpm-SWZm",
      "authorship_tag": "ABX9TyOb3JcR+O3FTnH05jMjkCtb",
      "include_colab_link": true
    },
    "kernelspec": {
      "name": "python3",
      "display_name": "Python 3"
    },
    "accelerator": "GPU"
  },
  "cells": [
    {
      "cell_type": "markdown",
      "metadata": {
        "id": "view-in-github",
        "colab_type": "text"
      },
      "source": [
        "<a href=\"https://colab.research.google.com/github/mslowik777/dw_matrix_road_signs/blob/master/day5.ipynb\" target=\"_parent\"><img src=\"https://colab.research.google.com/assets/colab-badge.svg\" alt=\"Open In Colab\"/></a>"
      ]
    },
    {
      "cell_type": "code",
      "metadata": {
        "id": "qlziWoF4hLe2",
        "colab_type": "code",
        "colab": {
          "base_uri": "https://localhost:8080/",
          "height": 177
        },
        "outputId": "59d26415-1a1f-49b1-a28a-5d02634814b8"
      },
      "source": [
        "!pip install hyperopt"
      ],
      "execution_count": 1,
      "outputs": [
        {
          "output_type": "stream",
          "text": [
            "Requirement already satisfied: hyperopt in /usr/local/lib/python3.6/dist-packages (0.1.2)\n",
            "Requirement already satisfied: numpy in /usr/local/lib/python3.6/dist-packages (from hyperopt) (1.18.2)\n",
            "Requirement already satisfied: networkx in /usr/local/lib/python3.6/dist-packages (from hyperopt) (2.4)\n",
            "Requirement already satisfied: scipy in /usr/local/lib/python3.6/dist-packages (from hyperopt) (1.4.1)\n",
            "Requirement already satisfied: tqdm in /usr/local/lib/python3.6/dist-packages (from hyperopt) (4.38.0)\n",
            "Requirement already satisfied: six in /usr/local/lib/python3.6/dist-packages (from hyperopt) (1.12.0)\n",
            "Requirement already satisfied: pymongo in /usr/local/lib/python3.6/dist-packages (from hyperopt) (3.10.1)\n",
            "Requirement already satisfied: future in /usr/local/lib/python3.6/dist-packages (from hyperopt) (0.16.0)\n",
            "Requirement already satisfied: decorator>=4.3.0 in /usr/local/lib/python3.6/dist-packages (from networkx->hyperopt) (4.4.2)\n"
          ],
          "name": "stdout"
        }
      ]
    },
    {
      "cell_type": "code",
      "metadata": {
        "id": "me9Toc-qj_YT",
        "colab_type": "code",
        "colab": {
          "base_uri": "https://localhost:8080/",
          "height": 53
        },
        "outputId": "ba1662d8-ad15-421e-b078-24c066aa9ce5"
      },
      "source": [
        "import pandas as pd\n",
        "import numpy as np\n",
        "import os\n",
        "import datetime\n",
        "\n",
        "import tensorflow as tf\n",
        "from tensorflow.keras.models import Sequential\n",
        "from tensorflow.keras.layers import Conv2D, MaxPool2D, Dense, Flatten, Dropout\n",
        "from tensorflow.keras.utils import to_categorical\n",
        "\n",
        "%load_ext tensorboard\n",
        "\n",
        "import matplotlib.pyplot as plt\n",
        "from skimage import color, exposure\n",
        "\n",
        "from sklearn.metrics import accuracy_score\n",
        "\n",
        "from hyperopt import hp, STATUS_OK, tpe, Trials, fmin"
      ],
      "execution_count": 17,
      "outputs": [
        {
          "output_type": "stream",
          "text": [
            "The tensorboard extension is already loaded. To reload it, use:\n",
            "  %reload_ext tensorboard\n"
          ],
          "name": "stdout"
        }
      ]
    },
    {
      "cell_type": "code",
      "metadata": {
        "id": "FwGgi80bkFRt",
        "colab_type": "code",
        "colab": {
          "base_uri": "https://localhost:8080/",
          "height": 35
        },
        "outputId": "e2d69486-3327-45a9-de83-1550664ae106"
      },
      "source": [
        "cd '/content/drive/My Drive/Colab Notebooks/dw_matrix/matrix_three/dw_matrix_road_signs'"
      ],
      "execution_count": 3,
      "outputs": [
        {
          "output_type": "stream",
          "text": [
            "/content/drive/My Drive/Colab Notebooks/dw_matrix/matrix_three/dw_matrix_road_signs\n"
          ],
          "name": "stdout"
        }
      ]
    },
    {
      "cell_type": "code",
      "metadata": {
        "id": "efSubTtHkI82",
        "colab_type": "code",
        "colab": {}
      },
      "source": [
        "train = pd.read_pickle('data/train.p')\n",
        "test = pd.read_pickle('data/test.p')\n",
        "\n",
        "X_train, y_train = train['features'], train['labels']\n",
        "X_test, y_test = test['features'], test['labels']"
      ],
      "execution_count": 0,
      "outputs": []
    },
    {
      "cell_type": "code",
      "metadata": {
        "id": "3tj0j-50kSUd",
        "colab_type": "code",
        "colab": {}
      },
      "source": [
        "if y_train.ndim ==1: y_train = to_categorical(y_train)\n",
        "if y_test.ndim ==1: y_test = to_categorical(y_test)"
      ],
      "execution_count": 0,
      "outputs": []
    },
    {
      "cell_type": "code",
      "metadata": {
        "id": "wIvaK8C9kW0z",
        "colab_type": "code",
        "colab": {}
      },
      "source": [
        "input_shape = X_train.shape[1:]\n",
        "num_classes = y_train.shape[1]"
      ],
      "execution_count": 0,
      "outputs": []
    },
    {
      "cell_type": "code",
      "metadata": {
        "id": "_ym9Ho05kddh",
        "colab_type": "code",
        "colab": {}
      },
      "source": [
        "def train_model(model, X_train, y_train, params_fit={}):\n",
        "  model.compile(loss='categorical_crossentropy', optimizer = 'Adam', metrics=['accuracy'])\n",
        "  model.fit(\n",
        "      X_train, \n",
        "      y_train,\n",
        "      batch_size=params_fit.get('batch_size', 128),\n",
        "      epochs=params_fit.get('epochs', 5),\n",
        "      verbose=params_fit.get('verbose', 1),\n",
        "      validation_data=params_fit.get('validation_data', (X_train, y_train)),\n",
        "      callbacks= [tensorboard_callback]\n",
        "      )\n",
        "  return model\n",
        "\n",
        "\n",
        "def predict(model_trained, X_test, y_test, scoring=accuracy_score):\n",
        "  y_test_norm = np.argmax(y_test, axis=1)\n",
        "\n",
        "  y_pred_prob = model_trained.predict(X_test)\n",
        "  y_pred = np.argmax(y_pred_prob, axis=1)\n",
        "\n",
        "  return scoring(y_test_norm, y_pred)"
      ],
      "execution_count": 0,
      "outputs": []
    },
    {
      "cell_type": "code",
      "metadata": {
        "id": "L8u-BBEBkvfN",
        "colab_type": "code",
        "colab": {}
      },
      "source": [
        "def get_cnn_v5(input_shape, num_classes):\n",
        "  return Sequential([\n",
        "  Conv2D(filters=32, kernel_size=(3, 3), activation='relu',input_shape=input_shape),\n",
        "  Conv2D(filters=32, kernel_size=(3, 3), activation='relu', padding='same'),\n",
        "  MaxPool2D(),\n",
        "  Dropout(0.3),\n",
        "\n",
        "  Conv2D(filters=64, kernel_size=(3, 3), activation='relu', padding='same'),\n",
        "  Conv2D(filters=64, kernel_size=(3, 3), activation='relu'),\n",
        "  MaxPool2D(),\n",
        "  Dropout(0.3),\n",
        "\n",
        "  Conv2D(filters=64, kernel_size=(3, 3), activation='relu', padding='same'),\n",
        "  Conv2D(filters=64, kernel_size=(3, 3), activation='relu'),\n",
        "  MaxPool2D(),\n",
        "  Dropout(0.3),\n",
        "  \n",
        "  Flatten(),\n",
        "\n",
        "  Dense(1024, activation='relu'),\n",
        "  Dropout(0.3),\n",
        "\n",
        "  Dense(1024, activation='relu'),\n",
        "  Dropout(0.3),\n",
        "\n",
        "\n",
        "  Dense(num_classes, activation='softmax'),                    \n",
        "])\n",
        "  \n",
        "logdir = os.path.join('logs', datetime.datetime.now().strftime(\"Y%m%d-%H%M%S\"))\n",
        "tensorboard_callback = tf.keras.callbacks.TensorBoard(logdir, histogram_freq=1)"
      ],
      "execution_count": 0,
      "outputs": []
    },
    {
      "cell_type": "code",
      "metadata": {
        "id": "kcK0cugEkz55",
        "colab_type": "code",
        "colab": {
          "base_uri": "https://localhost:8080/",
          "height": 213
        },
        "outputId": "519fc1c0-33d3-46b9-ca14-ada3ea53f9c8"
      },
      "source": [
        "model = get_cnn_v5(input_shape, num_classes)\n",
        "model_trained = train_model(model, X_train, y_train)\n",
        "\n",
        "predict(model_trained,X_test, y_test)"
      ],
      "execution_count": 13,
      "outputs": [
        {
          "output_type": "stream",
          "text": [
            "Epoch 1/5\n",
            "272/272 [==============================] - 6s 24ms/step - loss: 2.5611 - accuracy: 0.3065 - val_loss: 0.8696 - val_accuracy: 0.7541\n",
            "Epoch 2/5\n",
            "272/272 [==============================] - 6s 22ms/step - loss: 0.7556 - accuracy: 0.7648 - val_loss: 0.2025 - val_accuracy: 0.9414\n",
            "Epoch 3/5\n",
            "272/272 [==============================] - 6s 22ms/step - loss: 0.3743 - accuracy: 0.8869 - val_loss: 0.0897 - val_accuracy: 0.9764\n",
            "Epoch 4/5\n",
            "272/272 [==============================] - 6s 22ms/step - loss: 0.2537 - accuracy: 0.9239 - val_loss: 0.0540 - val_accuracy: 0.9844\n",
            "Epoch 5/5\n",
            "272/272 [==============================] - 6s 22ms/step - loss: 0.1899 - accuracy: 0.9434 - val_loss: 0.0453 - val_accuracy: 0.9865\n"
          ],
          "name": "stdout"
        },
        {
          "output_type": "execute_result",
          "data": {
            "text/plain": [
              "0.964625850340136"
            ]
          },
          "metadata": {
            "tags": []
          },
          "execution_count": 13
        }
      ]
    },
    {
      "cell_type": "code",
      "metadata": {
        "id": "i2ZWmtKapV66",
        "colab_type": "code",
        "colab": {}
      },
      "source": [
        "def get_model(params):\n",
        "  return Sequential([\n",
        "  Conv2D(filters=32, kernel_size=(3, 3), activation='relu',input_shape=input_shape),\n",
        "  Conv2D(filters=32, kernel_size=(3, 3), activation='relu', padding='same'),\n",
        "  MaxPool2D(),\n",
        "  Dropout(params['dropout_cnn_block_one']),\n",
        "\n",
        "  Conv2D(filters=64, kernel_size=(3, 3), activation='relu', padding='same'),\n",
        "  Conv2D(filters=64, kernel_size=(3, 3), activation='relu'),\n",
        "  MaxPool2D(),\n",
        "  Dropout(params['dropout_cnn_block_two']),\n",
        "\n",
        "\n",
        "  Conv2D(filters=128, kernel_size=(3, 3), activation='relu', padding='same'),\n",
        "  Conv2D(filters=128, kernel_size=(3, 3), activation='relu'),\n",
        "  MaxPool2D(),\n",
        "  Dropout(params['dropout_cnn_block_three']),\n",
        "  \n",
        "  Flatten(),\n",
        "\n",
        "  Dense(1024, activation='relu'),\n",
        "  Dropout(params['dropout_dense_block_one']),\n",
        "\n",
        "  Dense(1024, activation='relu'),\n",
        "  Dropout(params['dropout_dense_block_two']),\n",
        "\n",
        "\n",
        "  Dense(num_classes, activation='softmax'),                    \n",
        "])\n",
        "  \n",
        "#logdir = os.path.join('logs', datetime.datetime.now().strftime(\"Y%m%d-%H%M%S\"))\n",
        "#tensorboard_callback = tf.keras.callbacks.TensorBoard(logdir, histogram_freq=1)"
      ],
      "execution_count": 0,
      "outputs": []
    },
    {
      "cell_type": "code",
      "metadata": {
        "id": "oa_j-NT7ni2p",
        "colab_type": "code",
        "colab": {
          "base_uri": "https://localhost:8080/",
          "height": 53
        },
        "outputId": "9325a7b6-16c7-4711-affd-82297eaff064"
      },
      "source": [
        "model_trained.evaluate(X_test, y_test)"
      ],
      "execution_count": 26,
      "outputs": [
        {
          "output_type": "stream",
          "text": [
            "138/138 [==============================] - 0s 3ms/step - loss: 0.1837 - accuracy: 0.9646\n"
          ],
          "name": "stdout"
        },
        {
          "output_type": "execute_result",
          "data": {
            "text/plain": [
              "[0.18374329805374146, 0.9646258354187012]"
            ]
          },
          "metadata": {
            "tags": []
          },
          "execution_count": 26
        }
      ]
    },
    {
      "cell_type": "code",
      "metadata": {
        "id": "oremnsWImdJg",
        "colab_type": "code",
        "colab": {}
      },
      "source": [
        "def func_obj(params):\n",
        "  model = get_model(params)\n",
        "  model.compile(loss='categorical_crossentropy', optimizer = 'Adam', metrics=['accuracy'])\n",
        "\n",
        "\n",
        "\n",
        "  model.fit(\n",
        "      X_train, \n",
        "      y_train,\n",
        "      batch_size=int(params.get('batch_size', 128)),\n",
        "      epochs=5,\n",
        "      verbose= 0,\n",
        "  )\n",
        "  \n",
        "  score = model.evaluate(X_test, y_test,verbose=0)\n",
        "  accuracy = score[1]\n",
        "  print(params, 'accuracy={}'.format(accuracy))\n",
        "\n",
        "  return {'loss': -accuracy, 'status': STATUS_OK, 'model':model}\n"
      ],
      "execution_count": 0,
      "outputs": []
    },
    {
      "cell_type": "code",
      "metadata": {
        "id": "rkgcI3MRoREg",
        "colab_type": "code",
        "colab": {
          "base_uri": "https://localhost:8080/",
          "height": 1000
        },
        "outputId": "6ef7fbef-a909-4b25-8570-8cc970df5952"
      },
      "source": [
        "space = {\n",
        "    'batch_size': hp.quniform('batch_size', 100, 200, 10),\n",
        "    'dropout_cnn_block_one': hp.uniform('dropout_cnn_block_one', 0.3, 0.5),\n",
        "    'dropout_cnn_block_two': hp.uniform('dropout_cnn_block_two', 0.3, 0.5),\n",
        "    'dropout_cnn_block_three': hp.uniform('dropout_cnn_block_three', 0.3, 0.5),\n",
        "    \n",
        "    'dropout_dense_block_one': hp.uniform('dropout_dense_block_one', 0.3, 0.7),\n",
        "    'dropout_dense_block_two': hp.uniform('dropout_dense_block_two', 0.3, 0.7),\n",
        "}\n",
        "\n",
        "best = fmin(\n",
        "    func_obj,\n",
        "    space,\n",
        "    tpe.suggest,\n",
        "    30,\n",
        "    Trials()\n",
        ")"
      ],
      "execution_count": 47,
      "outputs": [
        {
          "output_type": "stream",
          "text": [
            "{'batch_size': 170.0, 'dropout_cnn_block_one': 0.35275375117381214, 'dropout_cnn_block_three': 0.4922008514686671, 'dropout_cnn_block_two': 0.3154813778227629, 'dropout_dense_block_one': 0.6681689917865138, 'dropout_dense_block_two': 0.41799293882764843}\n",
            "accuracy=0.9156462550163269\n",
            "{'batch_size': 140.0, 'dropout_cnn_block_one': 0.33817463957839256, 'dropout_cnn_block_three': 0.4610347344959406, 'dropout_cnn_block_two': 0.3785180557926313, 'dropout_dense_block_one': 0.3978198287755651, 'dropout_dense_block_two': 0.6726123573054997}\n",
            "accuracy=0.9358276724815369\n",
            "{'batch_size': 140.0, 'dropout_cnn_block_one': 0.3666411872117567, 'dropout_cnn_block_three': 0.4982941562171985, 'dropout_cnn_block_two': 0.42665933135481177, 'dropout_dense_block_one': 0.6998394045711478, 'dropout_dense_block_two': 0.6925725805453851}\n",
            "accuracy=0.7546485066413879\n",
            "{'batch_size': 100.0, 'dropout_cnn_block_one': 0.3685048978643783, 'dropout_cnn_block_three': 0.43918732783523856, 'dropout_cnn_block_two': 0.44441229333557064, 'dropout_dense_block_one': 0.5887267547863089, 'dropout_dense_block_two': 0.4191929884240376}\n",
            "accuracy=0.934920608997345\n",
            "{'batch_size': 190.0, 'dropout_cnn_block_one': 0.3996757244052608, 'dropout_cnn_block_three': 0.4715087890259265, 'dropout_cnn_block_two': 0.4594059272817914, 'dropout_dense_block_one': 0.6259794440390617, 'dropout_dense_block_two': 0.6955501167754109}\n",
            "accuracy=0.7138321995735168\n",
            "{'batch_size': 190.0, 'dropout_cnn_block_one': 0.36610962499771216, 'dropout_cnn_block_three': 0.46041986611369545, 'dropout_cnn_block_two': 0.39736230734107, 'dropout_dense_block_one': 0.33897518796235454, 'dropout_dense_block_two': 0.5818461393778116}\n",
            "accuracy=0.9342403411865234\n",
            "{'batch_size': 130.0, 'dropout_cnn_block_one': 0.3657455267339057, 'dropout_cnn_block_three': 0.3888911606657185, 'dropout_cnn_block_two': 0.47030840186649114, 'dropout_dense_block_one': 0.4248241468897117, 'dropout_dense_block_two': 0.5860973977623174}\n",
            "accuracy=0.9362812042236328\n",
            "{'batch_size': 120.0, 'dropout_cnn_block_one': 0.3869145356367902, 'dropout_cnn_block_three': 0.41260981740400376, 'dropout_cnn_block_two': 0.43560908217799776, 'dropout_dense_block_one': 0.4746123355242678, 'dropout_dense_block_two': 0.4664819439473692}\n",
            "accuracy=0.9560090899467468\n",
            "{'batch_size': 190.0, 'dropout_cnn_block_one': 0.3653135744373673, 'dropout_cnn_block_three': 0.41798872404137716, 'dropout_cnn_block_two': 0.3384676588915759, 'dropout_dense_block_one': 0.43889577075769126, 'dropout_dense_block_two': 0.5565295659139848}\n",
            "accuracy=0.9492063522338867\n",
            "{'batch_size': 140.0, 'dropout_cnn_block_one': 0.4321251256695644, 'dropout_cnn_block_three': 0.49681603120696566, 'dropout_cnn_block_two': 0.46667199956953387, 'dropout_dense_block_one': 0.3564693464501119, 'dropout_dense_block_two': 0.5058707576285113}\n",
            "accuracy=0.9401360750198364\n",
            "{'batch_size': 190.0, 'dropout_cnn_block_one': 0.3807603985577251, 'dropout_cnn_block_three': 0.4539472740827896, 'dropout_cnn_block_two': 0.43501856404985917, 'dropout_dense_block_one': 0.4145803345557581, 'dropout_dense_block_two': 0.6257535039482762}\n",
            "accuracy=0.9088435173034668\n",
            "{'batch_size': 170.0, 'dropout_cnn_block_one': 0.45635374376109544, 'dropout_cnn_block_three': 0.4628706805086616, 'dropout_cnn_block_two': 0.38201436629752433, 'dropout_dense_block_one': 0.42931464474195297, 'dropout_dense_block_two': 0.3031764744282767}\n",
            "accuracy=0.9226757287979126\n",
            "{'batch_size': 100.0, 'dropout_cnn_block_one': 0.40879721892843257, 'dropout_cnn_block_three': 0.4213270030270576, 'dropout_cnn_block_two': 0.44101021159245646, 'dropout_dense_block_one': 0.3685713909496791, 'dropout_dense_block_two': 0.6249861451345589}\n",
            "accuracy=0.9344671368598938\n",
            "{'batch_size': 180.0, 'dropout_cnn_block_one': 0.4232836233342275, 'dropout_cnn_block_three': 0.34648352454998865, 'dropout_cnn_block_two': 0.41181546355261606, 'dropout_dense_block_one': 0.6370407712830572, 'dropout_dense_block_two': 0.32869462615378064}\n",
            "accuracy=0.8730158805847168\n",
            "{'batch_size': 180.0, 'dropout_cnn_block_one': 0.4652441029958862, 'dropout_cnn_block_three': 0.44957300570741726, 'dropout_cnn_block_two': 0.39626478712431323, 'dropout_dense_block_one': 0.45747620937407496, 'dropout_dense_block_two': 0.4529230422971944}\n",
            "accuracy=0.8911564350128174\n",
            "{'batch_size': 190.0, 'dropout_cnn_block_one': 0.46479377188187565, 'dropout_cnn_block_three': 0.37487459963904907, 'dropout_cnn_block_two': 0.3502212040556031, 'dropout_dense_block_one': 0.5868129981962938, 'dropout_dense_block_two': 0.587321246911872}\n",
            "accuracy=0.8498865962028503\n",
            "{'batch_size': 130.0, 'dropout_cnn_block_one': 0.3945268601123501, 'dropout_cnn_block_three': 0.3460956415714484, 'dropout_cnn_block_two': 0.3514758219605291, 'dropout_dense_block_one': 0.6425789870962695, 'dropout_dense_block_two': 0.38704082724884514}\n",
            "accuracy=0.9392290115356445\n",
            "{'batch_size': 110.0, 'dropout_cnn_block_one': 0.35145842396001237, 'dropout_cnn_block_three': 0.48887723152625806, 'dropout_cnn_block_two': 0.46974401730503756, 'dropout_dense_block_one': 0.322440300671961, 'dropout_dense_block_two': 0.6797859163612303}\n",
            "accuracy=0.942176878452301\n",
            "{'batch_size': 160.0, 'dropout_cnn_block_one': 0.4389642049089809, 'dropout_cnn_block_three': 0.4608943813238293, 'dropout_cnn_block_two': 0.32959500965770516, 'dropout_dense_block_one': 0.49981931189074646, 'dropout_dense_block_two': 0.6142851794098262}\n",
            "accuracy=0.8791383504867554\n",
            "{'batch_size': 120.0, 'dropout_cnn_block_one': 0.44416400437988274, 'dropout_cnn_block_three': 0.4366263241234768, 'dropout_cnn_block_two': 0.4274221380979976, 'dropout_dense_block_one': 0.4219114384062372, 'dropout_dense_block_two': 0.5246722726036609}\n",
            "accuracy=0.898639440536499\n",
            "{'batch_size': 150.0, 'dropout_cnn_block_one': 0.48814782017492125, 'dropout_cnn_block_three': 0.30143469761552555, 'dropout_cnn_block_two': 0.48916709862331526, 'dropout_dense_block_one': 0.5101672654118208, 'dropout_dense_block_two': 0.530418608898857}\n",
            "accuracy=0.8492063283920288\n",
            "{'batch_size': 110.0, 'dropout_cnn_block_one': 0.3076312928671138, 'dropout_cnn_block_three': 0.41231854735652246, 'dropout_cnn_block_two': 0.3001221855208811, 'dropout_dense_block_one': 0.5044402952667684, 'dropout_dense_block_two': 0.473848810388876}\n",
            "accuracy=0.9596371650695801\n",
            "{'batch_size': 110.0, 'dropout_cnn_block_one': 0.31262508996763877, 'dropout_cnn_block_three': 0.399743412911573, 'dropout_cnn_block_two': 0.3031216998739085, 'dropout_dense_block_one': 0.5279655701529077, 'dropout_dense_block_two': 0.4559453651048459}\n",
            "accuracy=0.9473922848701477\n",
            "{'batch_size': 110.0, 'dropout_cnn_block_one': 0.30232704430031127, 'dropout_cnn_block_three': 0.3641085501134501, 'dropout_cnn_block_two': 0.37235567404649306, 'dropout_dense_block_one': 0.4752441526529613, 'dropout_dense_block_two': 0.47404525306131645}\n",
            "accuracy=0.938548743724823\n",
            "{'batch_size': 120.0, 'dropout_cnn_block_one': 0.3202835909994943, 'dropout_cnn_block_three': 0.41625560562023395, 'dropout_cnn_block_two': 0.49565544699722963, 'dropout_dense_block_one': 0.5409509771577359, 'dropout_dense_block_two': 0.34888123784254627}\n",
            "accuracy=0.9342403411865234\n",
            "{'batch_size': 120.0, 'dropout_cnn_block_one': 0.32591227802849265, 'dropout_cnn_block_three': 0.32630267132746216, 'dropout_cnn_block_two': 0.4146266133839127, 'dropout_dense_block_one': 0.5667165459146002, 'dropout_dense_block_two': 0.3825687964075073}\n",
            "accuracy=0.9571428298950195\n",
            "{'batch_size': 100.0, 'dropout_cnn_block_one': 0.3236356340849646, 'dropout_cnn_block_three': 0.30024388232233096, 'dropout_cnn_block_two': 0.41542655177253335, 'dropout_dense_block_one': 0.556651499052207, 'dropout_dense_block_two': 0.3638891477876642}\n",
            "accuracy=0.9539682269096375\n",
            "{'batch_size': 130.0, 'dropout_cnn_block_one': 0.3025258959987434, 'dropout_cnn_block_three': 0.31691768012364074, 'dropout_cnn_block_two': 0.36093964421537933, 'dropout_dense_block_one': 0.59366905329333, 'dropout_dense_block_two': 0.4113176406918698}\n",
            "accuracy=0.9560090899467468\n",
            "{'batch_size': 110.0, 'dropout_cnn_block_one': 0.3381045174021031, 'dropout_cnn_block_three': 0.33146912727595523, 'dropout_cnn_block_two': 0.30066188433992375, 'dropout_dense_block_one': 0.6972183404266051, 'dropout_dense_block_two': 0.4246591398792107}\n",
            "accuracy=0.9331066012382507\n",
            "{'batch_size': 150.0, 'dropout_cnn_block_one': 0.33674269028220555, 'dropout_cnn_block_three': 0.38308637475098845, 'dropout_cnn_block_two': 0.31880827958499225, 'dropout_dense_block_one': 0.5672094186827195, 'dropout_dense_block_two': 0.37719696526204405}\n",
            "accuracy=0.956916093826294\n",
            "100%|██████████| 30/30 [10:04<00:00, 20.15s/it, best loss: -0.9596371650695801]\n"
          ],
          "name": "stdout"
        }
      ]
    },
    {
      "cell_type": "code",
      "metadata": {
        "id": "AlMwIzJQn-N4",
        "colab_type": "code",
        "colab": {}
      },
      "source": [
        ""
      ],
      "execution_count": 0,
      "outputs": []
    }
  ]
}